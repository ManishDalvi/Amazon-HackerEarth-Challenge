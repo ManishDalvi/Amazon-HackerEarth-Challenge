{
 "cells": [
  {
   "cell_type": "markdown",
   "metadata": {},
   "source": [
    "#### Problem Statement\n",
    "\n",
    "We all know that when we visit an e-commerce or TV series website or even YouTube we see a separate suggestion box, where in they show some content which you might like. These are mainly based on the content that you have consumed on their website previously. These are called as Recommendation engine. \n",
    "\n",
    "Now consider you have been running a start up since last one year and now you have been able to gather some customer data and you want to build a recommendation engine. Based on certain features you have to cluster the customers into two different groups so that you can recommend the correct products based on the customer’s cluster.\n",
    "\n"
   ]
  },
  {
   "cell_type": "markdown",
   "metadata": {},
   "source": [
    "#### Challenge\n",
    "\n",
    "Your work is to build a predictive model to predict the category of the customer. You have to predict the column : “customer_category”\n",
    "You need to upload a presentation proposal addressing the following questions:\n",
    "What are the pros & cons of recommendation by this approach?\n",
    "\n",
    "Propose an architecture that will work more efficiently when building a recommendation engine for an e-commerce platform"
   ]
  },
  {
   "cell_type": "markdown",
   "metadata": {},
   "source": [
    "#### Business Objective\n",
    "\n",
    "    1. No low latency requirement\n",
    "    2. Error not very critical but should be in respectable limit\n",
    "    3. Interpretibility is important on why a person was classified into a category based on which features"
   ]
  },
  {
   "cell_type": "markdown",
   "metadata": {},
   "source": [
    "#### Machine Learning Problem Formulation\n",
    "\n",
    "##### Data\n",
    "\n",
    "Column\t- Description\n",
    "1. customer_visit_score\t- a score based on how regularly the customer visits the website\n",
    "2. customer_product_search_score - \tquality or price range of product that the customer searches for For ex: a customer  searching for a laptop will have more weightage than someone looking for a book\n",
    "3. customer_ctr_score - \thow many of the searched links does the customer click\n",
    "4. customer_stay_score - \ta score based on the time spent on an avg. by the customer\n",
    "5. customer_frequency_score - \ta score based on how many times in a day the customer visit the website\n",
    "6. customer_product_variation_score - \ta score based on how many varities of products does a customer search for, for ex. electronics, apparels, etc.\n",
    "7. customer_order_score - \tScore based on the no. of orders that has been succesfully delivered and not returned\n",
    "8. customer_affinity_score -\tan internal overall score calculated which signifies the affinity of the customer towards the website\n",
    "9. customer_category - \tthe cluster/group to which the customer should belong to\n",
    "10. customer_active_segment - \tthe categorization of the customers based on their activity\n",
    "11. X_1 -\tAnonymized feature based on loyalty of the customer"
   ]
  },
  {
   "cell_type": "markdown",
   "metadata": {},
   "source": [
    "#### Problem Type\n",
    "\n",
    "Binary classification problem"
   ]
  },
  {
   "cell_type": "markdown",
   "metadata": {},
   "source": [
    "#### Performance Metric\n",
    "\n",
    "macro precision-score"
   ]
  },
  {
   "cell_type": "markdown",
   "metadata": {},
   "source": [
    "#### Machine Learning Objective\n",
    "\n",
    "1. Predict the category of the customer"
   ]
  },
  {
   "cell_type": "markdown",
   "metadata": {},
   "source": [
    "#### Dataset\n",
    "\n",
    "Train Dataset and Test Dataset given"
   ]
  },
  {
   "cell_type": "code",
   "execution_count": 122,
   "metadata": {},
   "outputs": [],
   "source": [
    "import pandas as pd\n",
    "import matplotlib.pyplot as plt\n",
    "import re\n",
    "import time\n",
    "import warnings\n",
    "import numpy as np\n",
    "from nltk.corpus import stopwords\n",
    "from sklearn.decomposition import TruncatedSVD\n",
    "from sklearn.preprocessing import normalize\n",
    "from sklearn.feature_extraction.text import CountVectorizer\n",
    "from sklearn.manifold import TSNE\n",
    "import seaborn as sns\n",
    "from sklearn.neighbors import KNeighborsClassifier\n",
    "from sklearn.metrics import confusion_matrix\n",
    "from sklearn.metrics.classification import accuracy_score, log_loss\n",
    "from sklearn.feature_extraction.text import TfidfVectorizer\n",
    "from sklearn.linear_model import SGDClassifier\n",
    "from imblearn.over_sampling import SMOTE\n",
    "from collections import Counter\n",
    "from scipy.sparse import hstack\n",
    "from sklearn.multiclass import OneVsRestClassifier\n",
    "from sklearn.svm import SVC\n",
    "from sklearn.model_selection import StratifiedKFold \n",
    "from collections import Counter, defaultdict\n",
    "from sklearn.calibration import CalibratedClassifierCV\n",
    "from sklearn.naive_bayes import MultinomialNB\n",
    "from sklearn.naive_bayes import GaussianNB\n",
    "from sklearn.model_selection import train_test_split\n",
    "from sklearn.model_selection import GridSearchCV\n",
    "import math\n",
    "from sklearn.metrics import normalized_mutual_info_score\n",
    "from sklearn.ensemble import RandomForestClassifier\n",
    "warnings.filterwarnings(\"ignore\")\n",
    "from sklearn.metrics import precision_score\n",
    "\n",
    "from mlxtend.classifier import StackingClassifier\n",
    "\n",
    "from sklearn import model_selection\n",
    "from sklearn.linear_model import LogisticRegression"
   ]
  },
  {
   "cell_type": "markdown",
   "metadata": {},
   "source": [
    "### Reading Data"
   ]
  },
  {
   "cell_type": "code",
   "execution_count": 123,
   "metadata": {},
   "outputs": [
    {
     "name": "stdout",
     "output_type": "stream",
     "text": [
      "Number of data points :  10738\n",
      "Number of features :  12\n",
      "Features :  ['customer_id' 'customer_visit_score' 'customer_product_search_score'\n",
      " 'customer_ctr_score' 'customer_stay_score' 'customer_frequency_score'\n",
      " 'customer_product_variation_score' 'customer_order_score'\n",
      " 'customer_affinity_score' 'customer_active_segment' 'X1'\n",
      " 'customer_category']\n"
     ]
    },
    {
     "data": {
      "text/html": [
       "<div>\n",
       "<style scoped>\n",
       "    .dataframe tbody tr th:only-of-type {\n",
       "        vertical-align: middle;\n",
       "    }\n",
       "\n",
       "    .dataframe tbody tr th {\n",
       "        vertical-align: top;\n",
       "    }\n",
       "\n",
       "    .dataframe thead th {\n",
       "        text-align: right;\n",
       "    }\n",
       "</style>\n",
       "<table border=\"1\" class=\"dataframe\">\n",
       "  <thead>\n",
       "    <tr style=\"text-align: right;\">\n",
       "      <th></th>\n",
       "      <th>customer_id</th>\n",
       "      <th>customer_visit_score</th>\n",
       "      <th>customer_product_search_score</th>\n",
       "      <th>customer_ctr_score</th>\n",
       "      <th>customer_stay_score</th>\n",
       "      <th>customer_frequency_score</th>\n",
       "      <th>customer_product_variation_score</th>\n",
       "      <th>customer_order_score</th>\n",
       "      <th>customer_affinity_score</th>\n",
       "      <th>customer_active_segment</th>\n",
       "      <th>X1</th>\n",
       "      <th>customer_category</th>\n",
       "    </tr>\n",
       "  </thead>\n",
       "  <tbody>\n",
       "    <tr>\n",
       "      <th>0</th>\n",
       "      <td>csid_1</td>\n",
       "      <td>13.168425</td>\n",
       "      <td>9.447662</td>\n",
       "      <td>-0.070203</td>\n",
       "      <td>-0.139541</td>\n",
       "      <td>0.436956</td>\n",
       "      <td>4.705761</td>\n",
       "      <td>2.537985</td>\n",
       "      <td>7.959503</td>\n",
       "      <td>C</td>\n",
       "      <td>F</td>\n",
       "      <td>0</td>\n",
       "    </tr>\n",
       "    <tr>\n",
       "      <th>1</th>\n",
       "      <td>csid_2</td>\n",
       "      <td>17.092979</td>\n",
       "      <td>7.329056</td>\n",
       "      <td>0.153298</td>\n",
       "      <td>-0.102726</td>\n",
       "      <td>0.380340</td>\n",
       "      <td>4.205138</td>\n",
       "      <td>4.193444</td>\n",
       "      <td>17.517381</td>\n",
       "      <td>C</td>\n",
       "      <td>A</td>\n",
       "      <td>0</td>\n",
       "    </tr>\n",
       "    <tr>\n",
       "      <th>2</th>\n",
       "      <td>csid_3</td>\n",
       "      <td>17.505334</td>\n",
       "      <td>5.143676</td>\n",
       "      <td>0.106709</td>\n",
       "      <td>0.262834</td>\n",
       "      <td>0.417648</td>\n",
       "      <td>4.479070</td>\n",
       "      <td>3.878971</td>\n",
       "      <td>12.595155</td>\n",
       "      <td>C</td>\n",
       "      <td>BA</td>\n",
       "      <td>0</td>\n",
       "    </tr>\n",
       "    <tr>\n",
       "      <th>3</th>\n",
       "      <td>csid_4</td>\n",
       "      <td>31.423381</td>\n",
       "      <td>4.917740</td>\n",
       "      <td>-0.020226</td>\n",
       "      <td>-0.100526</td>\n",
       "      <td>0.778130</td>\n",
       "      <td>5.055535</td>\n",
       "      <td>2.708940</td>\n",
       "      <td>4.795073</td>\n",
       "      <td>AA</td>\n",
       "      <td>F</td>\n",
       "      <td>0</td>\n",
       "    </tr>\n",
       "    <tr>\n",
       "      <th>4</th>\n",
       "      <td>csid_5</td>\n",
       "      <td>11.909502</td>\n",
       "      <td>4.237073</td>\n",
       "      <td>0.187178</td>\n",
       "      <td>0.172891</td>\n",
       "      <td>0.162067</td>\n",
       "      <td>3.445247</td>\n",
       "      <td>3.677360</td>\n",
       "      <td>56.636326</td>\n",
       "      <td>C</td>\n",
       "      <td>AA</td>\n",
       "      <td>0</td>\n",
       "    </tr>\n",
       "  </tbody>\n",
       "</table>\n",
       "</div>"
      ],
      "text/plain": [
       "  customer_id  customer_visit_score  customer_product_search_score  \\\n",
       "0      csid_1             13.168425                       9.447662   \n",
       "1      csid_2             17.092979                       7.329056   \n",
       "2      csid_3             17.505334                       5.143676   \n",
       "3      csid_4             31.423381                       4.917740   \n",
       "4      csid_5             11.909502                       4.237073   \n",
       "\n",
       "   customer_ctr_score  customer_stay_score  customer_frequency_score  \\\n",
       "0           -0.070203            -0.139541                  0.436956   \n",
       "1            0.153298            -0.102726                  0.380340   \n",
       "2            0.106709             0.262834                  0.417648   \n",
       "3           -0.020226            -0.100526                  0.778130   \n",
       "4            0.187178             0.172891                  0.162067   \n",
       "\n",
       "   customer_product_variation_score  customer_order_score  \\\n",
       "0                          4.705761              2.537985   \n",
       "1                          4.205138              4.193444   \n",
       "2                          4.479070              3.878971   \n",
       "3                          5.055535              2.708940   \n",
       "4                          3.445247              3.677360   \n",
       "\n",
       "   customer_affinity_score customer_active_segment  X1  customer_category  \n",
       "0                 7.959503                       C   F                  0  \n",
       "1                17.517381                       C   A                  0  \n",
       "2                12.595155                       C  BA                  0  \n",
       "3                 4.795073                      AA   F                  0  \n",
       "4                56.636326                       C  AA                  0  "
      ]
     },
     "execution_count": 123,
     "metadata": {},
     "output_type": "execute_result"
    }
   ],
   "source": [
    "train_data=pd.read_csv('train.csv')\n",
    "print('Number of data points : ', train_data.shape[0])\n",
    "print('Number of features : ', train_data.shape[1])\n",
    "print('Features : ', train_data.columns.values)\n",
    "train_data.head()"
   ]
  },
  {
   "cell_type": "code",
   "execution_count": 124,
   "metadata": {},
   "outputs": [
    {
     "data": {
      "text/html": [
       "<div>\n",
       "<style scoped>\n",
       "    .dataframe tbody tr th:only-of-type {\n",
       "        vertical-align: middle;\n",
       "    }\n",
       "\n",
       "    .dataframe tbody tr th {\n",
       "        vertical-align: top;\n",
       "    }\n",
       "\n",
       "    .dataframe thead th {\n",
       "        text-align: right;\n",
       "    }\n",
       "</style>\n",
       "<table border=\"1\" class=\"dataframe\">\n",
       "  <thead>\n",
       "    <tr style=\"text-align: right;\">\n",
       "      <th></th>\n",
       "      <th>customer_id</th>\n",
       "      <th>customer_visit_score</th>\n",
       "      <th>customer_product_search_score</th>\n",
       "      <th>customer_ctr_score</th>\n",
       "      <th>customer_stay_score</th>\n",
       "      <th>customer_frequency_score</th>\n",
       "      <th>customer_product_variation_score</th>\n",
       "      <th>customer_order_score</th>\n",
       "      <th>customer_affinity_score</th>\n",
       "      <th>customer_active_segment</th>\n",
       "      <th>X1</th>\n",
       "    </tr>\n",
       "  </thead>\n",
       "  <tbody>\n",
       "    <tr>\n",
       "      <th>0</th>\n",
       "      <td>csid_10739</td>\n",
       "      <td>22.500174</td>\n",
       "      <td>3.702145</td>\n",
       "      <td>0.118811</td>\n",
       "      <td>0.093253</td>\n",
       "      <td>0.689237</td>\n",
       "      <td>5.786842</td>\n",
       "      <td>3.748009</td>\n",
       "      <td>7.661716</td>\n",
       "      <td>B</td>\n",
       "      <td>BA</td>\n",
       "    </tr>\n",
       "    <tr>\n",
       "      <th>1</th>\n",
       "      <td>csid_10740</td>\n",
       "      <td>13.225950</td>\n",
       "      <td>3.600102</td>\n",
       "      <td>0.130985</td>\n",
       "      <td>0.053575</td>\n",
       "      <td>0.142756</td>\n",
       "      <td>3.940359</td>\n",
       "      <td>3.469659</td>\n",
       "      <td>33.999679</td>\n",
       "      <td>B</td>\n",
       "      <td>AA</td>\n",
       "    </tr>\n",
       "    <tr>\n",
       "      <th>2</th>\n",
       "      <td>csid_10741</td>\n",
       "      <td>14.603376</td>\n",
       "      <td>5.084047</td>\n",
       "      <td>-0.004651</td>\n",
       "      <td>-0.036299</td>\n",
       "      <td>0.333709</td>\n",
       "      <td>4.254662</td>\n",
       "      <td>3.855939</td>\n",
       "      <td>33.485630</td>\n",
       "      <td>B</td>\n",
       "      <td>AA</td>\n",
       "    </tr>\n",
       "    <tr>\n",
       "      <th>3</th>\n",
       "      <td>csid_10742</td>\n",
       "      <td>26.149905</td>\n",
       "      <td>3.025501</td>\n",
       "      <td>0.229740</td>\n",
       "      <td>0.204591</td>\n",
       "      <td>3.768405</td>\n",
       "      <td>6.942625</td>\n",
       "      <td>2.362421</td>\n",
       "      <td>0.795372</td>\n",
       "      <td>B</td>\n",
       "      <td>BA</td>\n",
       "    </tr>\n",
       "    <tr>\n",
       "      <th>4</th>\n",
       "      <td>csid_10743</td>\n",
       "      <td>19.810630</td>\n",
       "      <td>5.020400</td>\n",
       "      <td>-0.011347</td>\n",
       "      <td>-0.028780</td>\n",
       "      <td>0.286841</td>\n",
       "      <td>4.585513</td>\n",
       "      <td>3.278624</td>\n",
       "      <td>15.052058</td>\n",
       "      <td>C</td>\n",
       "      <td>BA</td>\n",
       "    </tr>\n",
       "  </tbody>\n",
       "</table>\n",
       "</div>"
      ],
      "text/plain": [
       "  customer_id  customer_visit_score  customer_product_search_score  \\\n",
       "0  csid_10739             22.500174                       3.702145   \n",
       "1  csid_10740             13.225950                       3.600102   \n",
       "2  csid_10741             14.603376                       5.084047   \n",
       "3  csid_10742             26.149905                       3.025501   \n",
       "4  csid_10743             19.810630                       5.020400   \n",
       "\n",
       "   customer_ctr_score  customer_stay_score  customer_frequency_score  \\\n",
       "0            0.118811             0.093253                  0.689237   \n",
       "1            0.130985             0.053575                  0.142756   \n",
       "2           -0.004651            -0.036299                  0.333709   \n",
       "3            0.229740             0.204591                  3.768405   \n",
       "4           -0.011347            -0.028780                  0.286841   \n",
       "\n",
       "   customer_product_variation_score  customer_order_score  \\\n",
       "0                          5.786842              3.748009   \n",
       "1                          3.940359              3.469659   \n",
       "2                          4.254662              3.855939   \n",
       "3                          6.942625              2.362421   \n",
       "4                          4.585513              3.278624   \n",
       "\n",
       "   customer_affinity_score customer_active_segment  X1  \n",
       "0                 7.661716                       B  BA  \n",
       "1                33.999679                       B  AA  \n",
       "2                33.485630                       B  AA  \n",
       "3                 0.795372                       B  BA  \n",
       "4                15.052058                       C  BA  "
      ]
     },
     "execution_count": 124,
     "metadata": {},
     "output_type": "execute_result"
    }
   ],
   "source": [
    "test_data=pd.read_csv('test.csv')\n",
    "test_data.head()"
   ]
  },
  {
   "cell_type": "markdown",
   "metadata": {},
   "source": [
    "### Checking for Null Values"
   ]
  },
  {
   "cell_type": "code",
   "execution_count": 125,
   "metadata": {},
   "outputs": [
    {
     "name": "stdout",
     "output_type": "stream",
     "text": [
      "Any Null values in Train and Test data ==>  True True\n",
      "**************************************************\n",
      "customer_id                          0\n",
      "customer_visit_score                 0\n",
      "customer_product_search_score       42\n",
      "customer_ctr_score                   0\n",
      "customer_stay_score                 37\n",
      "customer_frequency_score             0\n",
      "customer_product_variation_score    46\n",
      "customer_order_score                66\n",
      "customer_affinity_score              0\n",
      "customer_active_segment             23\n",
      "X1                                  37\n",
      "customer_category                    0\n",
      "dtype: int64\n",
      "**************************************************\n",
      "customer_id                          0\n",
      "customer_visit_score                 0\n",
      "customer_product_search_score       29\n",
      "customer_ctr_score                   0\n",
      "customer_stay_score                 16\n",
      "customer_frequency_score             0\n",
      "customer_product_variation_score    43\n",
      "customer_order_score                41\n",
      "customer_affinity_score              0\n",
      "customer_active_segment             12\n",
      "X1                                  25\n",
      "dtype: int64\n"
     ]
    }
   ],
   "source": [
    "print(\"Any Null values in Train and Test data ==> \", train_data.isnull().any().any(),test_data.isnull().any().any())\n",
    "print(\"*\"*50)\n",
    "print(train_data.isna().sum())\n",
    "print(\"*\"*50)\n",
    "print(test_data.isna().sum())"
   ]
  },
  {
   "cell_type": "markdown",
   "metadata": {},
   "source": [
    "##### Null values exist in several features. It is good to deal with the Null values by replacing them using any one of the stratergy like mean, median or predictive replacement with similar values.\n",
    "\n",
    "##### Here we will use Mean replacement by replacing the Null value with the Mean value of the respective column.\n",
    "\n",
    "##### We calculate the Mean value for the train data only and replace null in both Train and Test data in order to keep the Test data as hidden from training."
   ]
  },
  {
   "cell_type": "code",
   "execution_count": 126,
   "metadata": {},
   "outputs": [],
   "source": [
    "# Replacing Null value of each column with the respective Mean value.\n",
    "for each_column in train_data.columns[1:9]:\n",
    "    mean_value = train_data[each_column].mean()\n",
    "    train_data[each_column].fillna(mean_value, inplace=True)\n",
    "    test_data[each_column].fillna(mean_value, inplace=True)"
   ]
  },
  {
   "cell_type": "markdown",
   "metadata": {},
   "source": [
    "#### For Categorical data, we replace Null values with highest occuring value"
   ]
  },
  {
   "cell_type": "code",
   "execution_count": 127,
   "metadata": {},
   "outputs": [
    {
     "name": "stdout",
     "output_type": "stream",
     "text": [
      "C     4919\n",
      "B     4430\n",
      "D      536\n",
      "AA     418\n",
      "A      412\n",
      "Name: customer_active_segment, dtype: int64\n",
      "====================\n",
      "BA    4511\n",
      "A     2268\n",
      "F     2235\n",
      "AA    1611\n",
      "E       76\n",
      "Name: X1, dtype: int64\n"
     ]
    }
   ],
   "source": [
    "print(train_data[\"customer_active_segment\"].value_counts())\n",
    "print(\"=\"*20)\n",
    "print(train_data[\"X1\"].value_counts())"
   ]
  },
  {
   "cell_type": "markdown",
   "metadata": {},
   "source": [
    "#### Here we see that 'C' is the highest occuring class in Customer Active Segment and 'BA' is the highest occuring class in X1 feature, hence we replace the null values with the above mentioned values."
   ]
  },
  {
   "cell_type": "code",
   "execution_count": 128,
   "metadata": {},
   "outputs": [],
   "source": [
    "train_data[\"customer_active_segment\"].fillna(\"C\", inplace=True)\n",
    "test_data[\"customer_active_segment\"].fillna(\"C\", inplace=True)\n",
    "\n",
    "train_data[\"X1\"].fillna(\"BA\", inplace=True)\n",
    "test_data[\"X1\"].fillna(\"BA\", inplace=True)"
   ]
  },
  {
   "cell_type": "markdown",
   "metadata": {},
   "source": [
    "##### Checking once again for the Null values if any"
   ]
  },
  {
   "cell_type": "code",
   "execution_count": 129,
   "metadata": {},
   "outputs": [
    {
     "name": "stdout",
     "output_type": "stream",
     "text": [
      "Any Null values in Train and Test data ==>  False False\n",
      "**************************************************\n",
      "customer_id                         0\n",
      "customer_visit_score                0\n",
      "customer_product_search_score       0\n",
      "customer_ctr_score                  0\n",
      "customer_stay_score                 0\n",
      "customer_frequency_score            0\n",
      "customer_product_variation_score    0\n",
      "customer_order_score                0\n",
      "customer_affinity_score             0\n",
      "customer_active_segment             0\n",
      "X1                                  0\n",
      "customer_category                   0\n",
      "dtype: int64\n",
      "**************************************************\n",
      "customer_id                         0\n",
      "customer_visit_score                0\n",
      "customer_product_search_score       0\n",
      "customer_ctr_score                  0\n",
      "customer_stay_score                 0\n",
      "customer_frequency_score            0\n",
      "customer_product_variation_score    0\n",
      "customer_order_score                0\n",
      "customer_affinity_score             0\n",
      "customer_active_segment             0\n",
      "X1                                  0\n",
      "dtype: int64\n"
     ]
    }
   ],
   "source": [
    "print(\"Any Null values in Train and Test data ==> \", train_data.isnull().any().any(),test_data.isnull().any().any())\n",
    "print(\"*\"*50)\n",
    "print(train_data.isna().sum())\n",
    "print(\"*\"*50)\n",
    "print(test_data.isna().sum())"
   ]
  },
  {
   "cell_type": "markdown",
   "metadata": {},
   "source": [
    "### Checking if there is any duplication of customer in train and test data"
   ]
  },
  {
   "cell_type": "code",
   "execution_count": 130,
   "metadata": {},
   "outputs": [
    {
     "name": "stdout",
     "output_type": "stream",
     "text": [
      "No duplicates found in train data\n",
      "No duplicates found in test data\n"
     ]
    }
   ],
   "source": [
    "## Check for duplicate customer data\n",
    "\n",
    "customer_ids_train = train_data[\"customer_id\"].unique()\n",
    "if len(customer_ids_train) == len(train_data):\n",
    "    print(\"No duplicates found in train data\")\n",
    "else:\n",
    "    print(\"Duplicates found in train data\")\n",
    "    \n",
    "customer_ids_test = test_data[\"customer_id\"].unique()\n",
    "if len(customer_ids_test) == len(test_data):\n",
    "    print(\"No duplicates found in test data\")\n",
    "else:\n",
    "    print(\"Duplicates found in test data\")"
   ]
  },
  {
   "cell_type": "markdown",
   "metadata": {},
   "source": [
    "#### The Customer ID is not required for training since it is unique data and does not add to featurization hence we can drop the customer ID from train and test data."
   ]
  },
  {
   "cell_type": "code",
   "execution_count": 131,
   "metadata": {},
   "outputs": [
    {
     "name": "stdout",
     "output_type": "stream",
     "text": [
      "Index(['customer_visit_score', 'customer_product_search_score',\n",
      "       'customer_ctr_score', 'customer_stay_score', 'customer_frequency_score',\n",
      "       'customer_product_variation_score', 'customer_order_score',\n",
      "       'customer_affinity_score', 'customer_active_segment', 'X1',\n",
      "       'customer_category'],\n",
      "      dtype='object')\n",
      "Index(['customer_visit_score', 'customer_product_search_score',\n",
      "       'customer_ctr_score', 'customer_stay_score', 'customer_frequency_score',\n",
      "       'customer_product_variation_score', 'customer_order_score',\n",
      "       'customer_affinity_score', 'customer_active_segment', 'X1'],\n",
      "      dtype='object')\n"
     ]
    }
   ],
   "source": [
    "### Drop Customer id since it is unique and not needed for training\n",
    "\n",
    "train_data = train_data.drop(\"customer_id\", axis=1)\n",
    "X_test = test_data.drop(\"customer_id\", axis=1)\n",
    "\n",
    "print(train_data.columns)\n",
    "print(X_test.columns)"
   ]
  },
  {
   "cell_type": "markdown",
   "metadata": {},
   "source": [
    "#### Since the Test data does not have the output data, the given train data can be split for cross validation. Once the suitable parameters for the algorithm is obtained, then the specific algorithm can be trained on the entire train dataset at the end."
   ]
  },
  {
   "cell_type": "code",
   "execution_count": 132,
   "metadata": {},
   "outputs": [
    {
     "name": "stdout",
     "output_type": "stream",
     "text": [
      "(8590, 11) (2148, 11) (8590,) (2148,)\n"
     ]
    }
   ],
   "source": [
    "# Splitting the data into train and validation datasets with 80:20 split\n",
    "\n",
    "y_true = train_data[\"customer_category\"] # True labels for Entire train data.\n",
    "\n",
    "X_train, X_cv, y_train, y_cv = train_test_split(train_data, y_true, stratify=y_true, test_size=0.2)\n",
    "\n",
    "print(X_train.shape, X_cv.shape, y_train.shape, y_cv.shape)"
   ]
  },
  {
   "cell_type": "code",
   "execution_count": 133,
   "metadata": {},
   "outputs": [
    {
     "name": "stdout",
     "output_type": "stream",
     "text": [
      "Index(['customer_visit_score', 'customer_product_search_score',\n",
      "       'customer_ctr_score', 'customer_stay_score', 'customer_frequency_score',\n",
      "       'customer_product_variation_score', 'customer_order_score',\n",
      "       'customer_affinity_score', 'customer_active_segment', 'X1'],\n",
      "      dtype='object')\n",
      "Index(['customer_visit_score', 'customer_product_search_score',\n",
      "       'customer_ctr_score', 'customer_stay_score', 'customer_frequency_score',\n",
      "       'customer_product_variation_score', 'customer_order_score',\n",
      "       'customer_affinity_score', 'customer_active_segment', 'X1'],\n",
      "      dtype='object')\n"
     ]
    }
   ],
   "source": [
    "### Drop Customer Customer Cateogory from X_train and X_cv dataset since it is already split and present in y_train and y_cv\n",
    "\n",
    "X_train = X_train.drop(\"customer_category\", axis=1)\n",
    "X_cv = X_cv.drop(\"customer_category\", axis=1)\n",
    "\n",
    "print(X_train.columns)\n",
    "print(X_cv.columns)"
   ]
  },
  {
   "cell_type": "markdown",
   "metadata": {},
   "source": [
    "## Exploratory Data Analysis"
   ]
  },
  {
   "cell_type": "markdown",
   "metadata": {},
   "source": [
    "#### Checking the distribution of the two categories inside the train and cross validation dataset"
   ]
  },
  {
   "cell_type": "code",
   "execution_count": 134,
   "metadata": {},
   "outputs": [
    {
     "name": "stdout",
     "output_type": "stream",
     "text": [
      "0    7554\n",
      "1    1036\n",
      "Name: customer_category, dtype: int64\n"
     ]
    },
    {
     "data": {
      "image/png": "[encoded data removed]",
      "text/plain": [
       "<Figure size 432x288 with 1 Axes>"
      ]
     },
     "metadata": {
      "needs_background": "light"
     },
     "output_type": "display_data"
    },
    {
     "name": "stdout",
     "output_type": "stream",
     "text": [
      "0    1889\n",
      "1     259\n",
      "Name: customer_category, dtype: int64\n"
     ]
    },
    {
     "data": {
      "image/png": "[encoded data removed]",
      "text/plain": [
       "<Figure size 432x288 with 1 Axes>"
      ]
     },
     "metadata": {
      "needs_background": "light"
     },
     "output_type": "display_data"
    }
   ],
   "source": [
    "train_class_distribution = y_train.value_counts().sort_index()\n",
    "print(train_class_distribution)\n",
    "\n",
    "my_colors = 'rgbkymc'\n",
    "train_class_distribution.plot(kind='bar')\n",
    "plt.xlabel('Class')\n",
    "plt.ylabel('Data points per Class')\n",
    "plt.title('Distribution of yi in train data')\n",
    "plt.grid()\n",
    "plt.show()\n",
    "\n",
    "\n",
    "cv_class_distribution = y_cv.value_counts().sort_index()\n",
    "print(cv_class_distribution)\n",
    "my_colors = 'rgbkymc'\n",
    "cv_class_distribution.plot(kind='bar')\n",
    "plt.xlabel('Class')\n",
    "plt.ylabel('Data points per Class')\n",
    "plt.title('Distribution of yi in train data')\n",
    "plt.grid()\n",
    "plt.show()\n"
   ]
  },
  {
   "cell_type": "markdown",
   "metadata": {},
   "source": [
    "### The Train and CV dataset is having the similar distribution the two categories.\n",
    "\n",
    "## The dataset is unbalanced since category '0' covers 87% of the dataset and Category '1' only 13%\n",
    "\n",
    "### From the distribution of the dataset, It is better to use ML algorithms that handle imbalanced datas better than other algorithms. These include Decision Tree based algorithms since they use a tree approach and the minority class can have a small tree. We can also use SVMs by enabling the class_weight parameters as balanced.\n",
    "\n"
   ]
  },
  {
   "cell_type": "markdown",
   "metadata": {},
   "source": [
    "## Feature Distributions"
   ]
  },
  {
   "cell_type": "code",
   "execution_count": 135,
   "metadata": {},
   "outputs": [
    {
     "data": {
      "image/png": "[encoded data removed]",
      "text/plain": [
       "<Figure size 463.875x360 with 1 Axes>"
      ]
     },
     "metadata": {
      "needs_background": "light"
     },
     "output_type": "display_data"
    }
   ],
   "source": [
    "sns.FacetGrid(train_data, hue=\"customer_category\", height=5) \\\n",
    ".map(sns.distplot, \"customer_visit_score\") \\\n",
    ".add_legend();\n",
    "plt.show();\n"
   ]
  },
  {
   "cell_type": "markdown",
   "metadata": {},
   "source": [
    "### Customer Visit Score - The distrubitions of the categories are overlapping hence it might be a less important feature as the values between 10 to 30 are overlapping for both 0 and 1"
   ]
  },
  {
   "cell_type": "code",
   "execution_count": 136,
   "metadata": {},
   "outputs": [
    {
     "data": {
      "image/png": "[encoded data removed]",
      "text/plain": [
       "<Figure size 463.875x360 with 1 Axes>"
      ]
     },
     "metadata": {
      "needs_background": "light"
     },
     "output_type": "display_data"
    }
   ],
   "source": [
    "sns.FacetGrid(train_data, hue=\"customer_category\", height=5) \\\n",
    ".map(sns.distplot, \"customer_product_search_score\") \\\n",
    ".add_legend();\n",
    "plt.show();"
   ]
  },
  {
   "cell_type": "markdown",
   "metadata": {},
   "source": [
    "### Customer Product Search Score - The distrubitions of the categories are highly overlapping which means that the feautre is not very important in deciding the categories as it would get difficult to seperate the data."
   ]
  },
  {
   "cell_type": "code",
   "execution_count": 137,
   "metadata": {},
   "outputs": [
    {
     "data": {
      "image/png": "[encoded data removed]",
      "text/plain": [
       "<Figure size 463.875x360 with 1 Axes>"
      ]
     },
     "metadata": {
      "needs_background": "light"
     },
     "output_type": "display_data"
    }
   ],
   "source": [
    "sns.FacetGrid(train_data, hue=\"customer_category\", height=5) \\\n",
    ".map(sns.distplot, \"customer_ctr_score\") \\\n",
    ".add_legend();\n",
    "plt.show();"
   ]
  },
  {
   "cell_type": "markdown",
   "metadata": {},
   "source": [
    "### Customer Ctr score - This feature is very important as there is good amount of seperation between the category distributions. There is very less overlap compared to the previous features. \n",
    "\n",
    "### The features tells use the ratio of the number of clicked links to the number of searched links. The higher the ratio the more like the customer is in category 1.\n",
    "\n",
    "### This might turn out to be the most important feature based on its distribution."
   ]
  },
  {
   "cell_type": "code",
   "execution_count": 138,
   "metadata": {},
   "outputs": [
    {
     "data": {
      "image/png": "[encoded data removed]",
      "text/plain": [
       "<Figure size 463.875x360 with 1 Axes>"
      ]
     },
     "metadata": {
      "needs_background": "light"
     },
     "output_type": "display_data"
    }
   ],
   "source": [
    "sns.FacetGrid(train_data, hue=\"customer_category\", height=5) \\\n",
    ".map(sns.distplot, \"customer_stay_score\") \\\n",
    ".add_legend();\n",
    "plt.show();"
   ]
  },
  {
   "cell_type": "markdown",
   "metadata": {},
   "source": [
    "### Customer Stay Score - The distributions seems good for seperating the two category. Even though it is not as good as the Customer Ctr Score but it provides a good exclusiveness.\n",
    "\n",
    "### The longer the customer stayed on the website, the customer becomes part of category 1."
   ]
  },
  {
   "cell_type": "code",
   "execution_count": 139,
   "metadata": {},
   "outputs": [
    {
     "data": {
      "image/png": "[encoded data removed]",
      "text/plain": [
       "<Figure size 463.875x360 with 1 Axes>"
      ]
     },
     "metadata": {
      "needs_background": "light"
     },
     "output_type": "display_data"
    }
   ],
   "source": [
    "sns.FacetGrid(train_data, hue=\"customer_category\", height=5) \\\n",
    ".map(sns.distplot, \"customer_frequency_score\") \\\n",
    ".add_legend();\n",
    "plt.show();"
   ]
  },
  {
   "cell_type": "markdown",
   "metadata": {},
   "source": [
    "### Customer Frequency Score - Similar to the Customer Stay score distribution but not as clearly distributed as the Customer Ctr score.\n",
    "\n",
    "### The more visits the customer makes to the website, the customer is likely to put into the Cusomter '1' category."
   ]
  },
  {
   "cell_type": "code",
   "execution_count": 140,
   "metadata": {},
   "outputs": [
    {
     "data": {
      "image/png": "[encoded data removed]",
      "text/plain": [
       "<Figure size 463.875x360 with 1 Axes>"
      ]
     },
     "metadata": {
      "needs_background": "light"
     },
     "output_type": "display_data"
    }
   ],
   "source": [
    "sns.FacetGrid(train_data, hue=\"customer_category\", height=5) \\\n",
    ".map(sns.distplot, \"customer_product_variation_score\") \\\n",
    ".add_legend();\n",
    "plt.show();"
   ]
  },
  {
   "cell_type": "markdown",
   "metadata": {},
   "source": [
    "### Customer Product Variation Score - The distribution looks clear but on a closer notice we see the overlap in values of 0 and 1 till the end of the graph. \n",
    "\n",
    "### But we see that the customer who is more likely to check variety of products is more likely to be categorised as category 1 which may be the category for the person who purchased the product."
   ]
  },
  {
   "cell_type": "code",
   "execution_count": 141,
   "metadata": {},
   "outputs": [
    {
     "data": {
      "image/png": "[encoded data removed]",
      "text/plain": [
       "<Figure size 463.875x360 with 1 Axes>"
      ]
     },
     "metadata": {
      "needs_background": "light"
     },
     "output_type": "display_data"
    }
   ],
   "source": [
    "sns.FacetGrid(train_data, hue=\"customer_category\", height=5) \\\n",
    ".map(sns.distplot, \"customer_order_score\") \\\n",
    ".add_legend();\n",
    "plt.show();"
   ]
  },
  {
   "cell_type": "markdown",
   "metadata": {},
   "source": [
    "### Customer Order Score - The distribution here is overlapping and not very conclusive in deciding the category.\n",
    "\n",
    "### The customers of category 1 order but did not return the product, but customers of category 1 ordered very few products. From previous graphs we also note that the customer of category 1 did frequent visit, had variety of searches in deciding the order hence it is more likely for those customers not to return the product as they have verified it throughly before purchase."
   ]
  },
  {
   "cell_type": "code",
   "execution_count": 142,
   "metadata": {},
   "outputs": [
    {
     "data": {
      "image/png": "[encoded data removed]",
      "text/plain": [
       "<Figure size 463.875x360 with 1 Axes>"
      ]
     },
     "metadata": {
      "needs_background": "light"
     },
     "output_type": "display_data"
    }
   ],
   "source": [
    "sns.FacetGrid(train_data, hue=\"customer_category\", height=5) \\\n",
    ".map(sns.distplot, \"customer_affinity_score\") \\\n",
    ".add_legend();\n",
    "plt.show();"
   ]
  },
  {
   "cell_type": "markdown",
   "metadata": {},
   "source": [
    "### Customer Affinity Score - The Distribution here is average and but there is a overlap at the initial stages.\n",
    "\n",
    "### The customer of category 1 has more affinity towards the website than with customer of category 0 which definitely affects the purchase decisions.\n"
   ]
  },
  {
   "cell_type": "markdown",
   "metadata": {},
   "source": [
    "## ---------------------------------------------------------------------------------------------------------\n",
    "\n",
    "# Machine Learning Solution"
   ]
  },
  {
   "cell_type": "markdown",
   "metadata": {},
   "source": [
    "### Initially we use a Random Model as point of reference. Random model can be used as the worst performing model which randomly outputs the values. Hence any algorithm we use should perform better than this Random Model."
   ]
  },
  {
   "cell_type": "code",
   "execution_count": 144,
   "metadata": {},
   "outputs": [
    {
     "data": {
      "text/plain": [
       "0.49526050321054294"
      ]
     },
     "execution_count": 144,
     "metadata": {},
     "output_type": "execute_result"
    }
   ],
   "source": [
    "### Random Model Predicitions for conditional validation data\n",
    "\n",
    "y_cv_predicted = np.random.randint(2, size=len(y_cv))\n",
    "\n",
    "precision_score(y_cv, y_cv_predicted, average='macro')"
   ]
  },
  {
   "cell_type": "markdown",
   "metadata": {},
   "source": [
    "#### The Random Model provies a precision score of 49%, which means that our ML models should provide a much better score than this Random generated model"
   ]
  },
  {
   "cell_type": "markdown",
   "metadata": {},
   "source": [
    "## Since the two columns \"customer_active_segment\" and \"X1\" are categorical data we cannot use it directly into ML algorithms but convert it to Numerical data.\n",
    "\n",
    "## Here One Hot encoding is used in order to convert categorical data into numerical data.\n"
   ]
  },
  {
   "cell_type": "code",
   "execution_count": 147,
   "metadata": {},
   "outputs": [
    {
     "name": "stdout",
     "output_type": "stream",
     "text": [
      "['C' 'B' 'AA' 'D' 'A']\n",
      "After vectorizations\n",
      "(8590, 5) (8590,)\n",
      "(2148, 5) (2148,)\n",
      "['a', 'aa', 'b', 'c', 'd']\n",
      "====================================================================================================\n"
     ]
    }
   ],
   "source": [
    "vectorizer = CountVectorizer(token_pattern = r\"(?u)\\b\\w+\\b\")\n",
    "print(X_train['customer_active_segment'].unique())\n",
    "\n",
    "# Fit only the train data\n",
    "vectorizer.fit(X_train['customer_active_segment'].values)\n",
    "\n",
    "# Convert text data to Vector\n",
    "X_train_cas = vectorizer.transform(X_train['customer_active_segment'].values)\n",
    "X_cv_cas = vectorizer.transform(X_cv['customer_active_segment'].values)\n",
    "X_test_cas = vectorizer.transform(X_test['customer_active_segment'].values)\n",
    "\n",
    "\n",
    "print(\"After vectorizations\")\n",
    "print(X_train_cas.shape, y_train.shape)\n",
    "print(X_cv_cas.shape, y_cv.shape)\n",
    "# print(X_test_grade_ohe.shape, y_test.shape)\n",
    "print(vectorizer.get_feature_names())\n",
    "print(\"=\"*100)\n"
   ]
  },
  {
   "cell_type": "code",
   "execution_count": 148,
   "metadata": {},
   "outputs": [
    {
     "name": "stdout",
     "output_type": "stream",
     "text": [
      "['AA' 'A' 'BA' 'F' 'E']\n",
      "After vectorizations\n",
      "(8590, 5) (8590,)\n",
      "(2148, 5) (2148,)\n",
      "['a', 'aa', 'ba', 'e', 'f']\n",
      "====================================================================================================\n"
     ]
    }
   ],
   "source": [
    "vectorizer = CountVectorizer(token_pattern = r\"(?u)\\b\\w+\\b\")\n",
    "print(X_train['X1'].unique())\n",
    "\n",
    "# Fit only the train data\n",
    "vectorizer.fit(X_train['X1'].values)\n",
    "\n",
    "# Convert text data to Vector\n",
    "X_train_x1 = vectorizer.transform(X_train['X1'].values)\n",
    "X_cv_x1 = vectorizer.transform(X_cv['X1'].values)\n",
    "X_test_x1 = vectorizer.transform(X_test['X1'].values)\n",
    "print(\"After vectorizations\")\n",
    "print(X_train_x1.shape, y_train.shape)\n",
    "print(X_cv_x1.shape, y_cv.shape)\n",
    "print(vectorizer.get_feature_names())\n",
    "print(\"=\"*100)\n"
   ]
  },
  {
   "cell_type": "markdown",
   "metadata": {},
   "source": [
    "### Checking the importance of customer_active_segment feature"
   ]
  },
  {
   "cell_type": "code",
   "execution_count": 149,
   "metadata": {},
   "outputs": [
    {
     "data": {
      "text/plain": [
       "DecisionTreeClassifier(max_depth=1, min_samples_split=5, random_state=0)"
      ]
     },
     "execution_count": 149,
     "metadata": {},
     "output_type": "execute_result"
    }
   ],
   "source": [
    "import matplotlib.pyplot as plt\n",
    "from sklearn.metrics import roc_auc_score\n",
    "from sklearn.tree import DecisionTreeClassifier\n",
    "from sklearn.model_selection import GridSearchCV\n",
    "depth = [1, 5, 10, 50]\n",
    "split = [5, 10, 100, 500]\n",
    "parameters = {'max_depth': depth, 'min_samples_split': split}\n",
    "dtc = DecisionTreeClassifier(random_state=0)\n",
    "clf = GridSearchCV(dtc, parameters, scoring='precision', n_jobs=-1, return_train_score=True)\n",
    "clf.fit(X_train_cas, y_train)\n",
    "\n",
    "clf.best_estimator_"
   ]
  },
  {
   "cell_type": "code",
   "execution_count": 150,
   "metadata": {},
   "outputs": [
    {
     "name": "stdout",
     "output_type": "stream",
     "text": [
      "0.7352941176470589\n"
     ]
    }
   ],
   "source": [
    "clf = DecisionTreeClassifier(max_depth=1, min_samples_split=5, random_state=0)\n",
    "clf.fit(X_train_cas, y_train)\n",
    "\n",
    "y_pred_cas = clf.predict(X_cv_cas)\n",
    "\n",
    "print(precision_score(y_cv,y_pred_cas))"
   ]
  },
  {
   "cell_type": "markdown",
   "metadata": {},
   "source": [
    "### We see that the precision of the Random model was just 49% where as only by using the Customer active segment we get a precision score of 73.5%. Thus the Customer active segment is an important feature.\n",
    "\n",
    "## --------------------------------------------------------------------------------------------------------------------------"
   ]
  },
  {
   "cell_type": "markdown",
   "metadata": {},
   "source": [
    "### Checking the importance of X1 feature based on loyalty"
   ]
  },
  {
   "cell_type": "code",
   "execution_count": 151,
   "metadata": {},
   "outputs": [
    {
     "data": {
      "text/plain": [
       "DecisionTreeClassifier(max_depth=1, min_samples_split=5, random_state=0)"
      ]
     },
     "execution_count": 151,
     "metadata": {},
     "output_type": "execute_result"
    }
   ],
   "source": [
    "import matplotlib.pyplot as plt\n",
    "from sklearn.metrics import roc_auc_score\n",
    "from sklearn.tree import DecisionTreeClassifier\n",
    "from sklearn.model_selection import GridSearchCV\n",
    "depth = [1, 5, 10, 50]\n",
    "split = [5, 10, 100, 500]\n",
    "parameters = {'max_depth': depth, 'min_samples_split': split}\n",
    "dtc = DecisionTreeClassifier(random_state=0)\n",
    "clf = GridSearchCV(dtc, parameters, scoring='precision', n_jobs=-1, return_train_score=True)\n",
    "clf.fit(X_train_x1, y_train)\n",
    "\n",
    "clf.best_estimator_"
   ]
  },
  {
   "cell_type": "code",
   "execution_count": 152,
   "metadata": {},
   "outputs": [
    {
     "name": "stdout",
     "output_type": "stream",
     "text": [
      "0.0\n"
     ]
    }
   ],
   "source": [
    "clf = DecisionTreeClassifier(max_depth=1, min_samples_split=5, random_state=0)\n",
    "clf.fit(X_train_x1, y_train)\n",
    "\n",
    "y_pred_x1 = clf.predict(X_cv_x1)\n",
    "\n",
    "print(precision_score(y_cv,y_pred_x1))"
   ]
  },
  {
   "cell_type": "markdown",
   "metadata": {},
   "source": [
    "### We see that the precision score for this feature is zero and seems like there is no value addition by this feature of X1 which is an anonymous number for loyalty."
   ]
  },
  {
   "cell_type": "markdown",
   "metadata": {},
   "source": [
    "## -------------------------------------------------------------------------------------------------------------------------------"
   ]
  },
  {
   "cell_type": "markdown",
   "metadata": {},
   "source": [
    "## Using all features for predition the Category of the customer"
   ]
  },
  {
   "cell_type": "code",
   "execution_count": 153,
   "metadata": {},
   "outputs": [
    {
     "name": "stdout",
     "output_type": "stream",
     "text": [
      "Index(['customer_visit_score', 'customer_product_search_score',\n",
      "       'customer_ctr_score', 'customer_stay_score', 'customer_frequency_score',\n",
      "       'customer_product_variation_score', 'customer_order_score',\n",
      "       'customer_affinity_score'],\n",
      "      dtype='object')\n"
     ]
    }
   ],
   "source": [
    "# Dropping Customer Active Segment and X1 columns since we have convert categorical to numerical data into different variables\n",
    "\n",
    "X_train = X_train.drop(\"customer_active_segment\", axis=1)\n",
    "X_train = X_train.drop(\"X1\", axis=1)\n",
    "\n",
    "print(X_train.columns)"
   ]
  },
  {
   "cell_type": "code",
   "execution_count": 154,
   "metadata": {},
   "outputs": [
    {
     "name": "stdout",
     "output_type": "stream",
     "text": [
      "Index(['customer_visit_score', 'customer_product_search_score',\n",
      "       'customer_ctr_score', 'customer_stay_score', 'customer_frequency_score',\n",
      "       'customer_product_variation_score', 'customer_order_score',\n",
      "       'customer_affinity_score'],\n",
      "      dtype='object')\n"
     ]
    }
   ],
   "source": [
    "X_cv = X_cv.drop(\"customer_active_segment\", axis=1)\n",
    "X_cv = X_cv.drop(\"X1\", axis=1)\n",
    "\n",
    "print(X_cv.columns)"
   ]
  },
  {
   "cell_type": "markdown",
   "metadata": {},
   "source": [
    "### We are not doing the same for test data now since we are testing the best algorithm and use CV data for testing.\n",
    "### Once the algorithm is decided upon we can convert the test data too."
   ]
  },
  {
   "cell_type": "code",
   "execution_count": 155,
   "metadata": {},
   "outputs": [],
   "source": [
    "# Stacking the The main features and the converted numerical \"customer active segment\" and \"X1\" features.\n",
    "\n",
    "from scipy.sparse import hstack\n",
    "X_tr = hstack((X_train, X_train_cas, X_train_x1))\n",
    "X_cr = hstack((X_cv, X_cv_cas, X_cv_x1))"
   ]
  },
  {
   "cell_type": "code",
   "execution_count": 156,
   "metadata": {},
   "outputs": [
    {
     "data": {
      "image/png": "[encoded data removed]",
      "text/plain": [
       "<Figure size 618.375x576 with 1 Axes>"
      ]
     },
     "metadata": {
      "needs_background": "light"
     },
     "output_type": "display_data"
    }
   ],
   "source": [
    "import numpy as np\n",
    "from sklearn.manifold import TSNE\n",
    "\n",
    "perplexity = 30\n",
    "X_embedded = TSNE(n_components=2,n_iter=1000, perplexity=perplexity).fit_transform(X_tr)\n",
    "\n",
    "df = pd.DataFrame({'x':X_embedded[:,0], 'y':X_embedded[:,1] ,'label':y_train})\n",
    "\n",
    "sns.lmplot(data=df, x='x', y='y', hue='label', fit_reg=False, size=8,palette=\"Set1\",markers=['s','o'])\n",
    "plt.title(\"perplexity : {} and max_iter : {}\".format(perplexity, 1000))\n",
    "plt.show()"
   ]
  },
  {
   "cell_type": "markdown",
   "metadata": {},
   "source": [
    "### From the TSNE Graph we see that most of the Blue points of category 1 are seperable from category 0. However there are blue points which are overlapping over the red points for which we can use the ML Algorithms."
   ]
  },
  {
   "cell_type": "markdown",
   "metadata": {},
   "source": [
    "## Starting with Hyperparameter tuning of Decision Trees since DTs are well known to handle imbalanced data."
   ]
  },
  {
   "cell_type": "code",
   "execution_count": 60,
   "metadata": {},
   "outputs": [
    {
     "data": {
      "text/plain": [
       "DecisionTreeClassifier(max_depth=1, min_samples_split=5, random_state=0)"
      ]
     },
     "execution_count": 60,
     "metadata": {},
     "output_type": "execute_result"
    }
   ],
   "source": [
    "import matplotlib.pyplot as plt\n",
    "from sklearn.metrics import roc_auc_score\n",
    "from sklearn.tree import DecisionTreeClassifier\n",
    "from sklearn.model_selection import GridSearchCV\n",
    "depth = [1, 5, 10, 50]\n",
    "split = [5, 10, 100, 500]\n",
    "parameters = {'max_depth': depth, 'min_samples_split': split}\n",
    "dtc = DecisionTreeClassifier(random_state=0)\n",
    "clf = GridSearchCV(dtc, parameters, scoring='precision', n_jobs=-1, return_train_score=True)\n",
    "clf.fit(X_tr, y_train)\n",
    "\n",
    "clf.best_estimator_"
   ]
  },
  {
   "cell_type": "code",
   "execution_count": 61,
   "metadata": {},
   "outputs": [
    {
     "name": "stdout",
     "output_type": "stream",
     "text": [
      "Precision Score : Decision Tree:  0.9354838709677419\n"
     ]
    }
   ],
   "source": [
    "clf = DecisionTreeClassifier(max_depth=1, min_samples_split=5, random_state=0)\n",
    "clf.fit(X_tr, y_train)\n",
    "\n",
    "y_pred_cv = clf.predict(X_cr)\n",
    "\n",
    "print(\"Precision Score : Decision Tree: \",precision_score(y_cv,y_pred_cv))"
   ]
  },
  {
   "cell_type": "code",
   "execution_count": 66,
   "metadata": {},
   "outputs": [
    {
     "name": "stdout",
     "output_type": "stream",
     "text": [
      "[0. 0. 1. 0. 0. 0. 0. 0. 0. 0. 0. 0. 0. 0. 0. 0. 0. 0.]\n"
     ]
    },
    {
     "data": {
      "image/png": "[encoded data removed]",
      "text/plain": [
       "<Figure size 720x864 with 1 Axes>"
      ]
     },
     "metadata": {
      "needs_background": "light"
     },
     "output_type": "display_data"
    }
   ],
   "source": [
    "feature_columns = ['customer_visit_score', 'customer_product_search_score',\n",
    "       'customer_ctr_score', 'customer_stay_score', 'customer_frequency_score',\n",
    "       'customer_product_variation_score', 'customer_order_score',\n",
    "       'customer_affinity_score', 'cas_0', 'cas_1', 'cas_2', 'cas_3', 'cas_4', 'X1_0', 'X1_1', 'X1_2', 'X1_3', 'X1_4',]\n",
    "features = feature_columns\n",
    "importances = clf.feature_importances_\n",
    "print(importances)\n",
    "indices = (np.argsort(importances))[-25:]\n",
    "plt.figure(figsize=(10,12))\n",
    "plt.title('Feature Importances')\n",
    "plt.barh(range(len(indices)), importances[indices], color='r', align='center')\n",
    "plt.yticks(range(len(indices)), [features[i] for i in indices])\n",
    "plt.xlabel('Relative Importance')\n",
    "plt.show()"
   ]
  },
  {
   "cell_type": "markdown",
   "metadata": {},
   "source": [
    "### Using Decision Tree we get a precision score of 93.5% which is very good compared to our random model discussed in the beginning at 51%"
   ]
  },
  {
   "cell_type": "code",
   "execution_count": 71,
   "metadata": {},
   "outputs": [
    {
     "name": "stdout",
     "output_type": "stream",
     "text": [
      "XGBClassifier(base_score=0.5, booster='gbtree', colsample_bylevel=0.6,\n",
      "              colsample_bynode=1, colsample_bytree=1, gamma=1.0, gpu_id=-1,\n",
      "              importance_type='gain', interaction_constraints='',\n",
      "              learning_rate=0.01, max_delta_step=0, max_depth=10,\n",
      "              min_child_weight=1, missing=nan, monotone_constraints='()',\n",
      "              n_estimators=200, n_jobs=-1, num_parallel_tree=1, random_state=0,\n",
      "              reg_alpha=0, reg_lambda=10, scale_pos_weight=1, subsample=0.6,\n",
      "              tree_method='exact', validate_parameters=1, verbosity=None)\n"
     ]
    }
   ],
   "source": [
    "\n",
    "import xgboost as xgb\n",
    "from sklearn.metrics import f1_score\n",
    "from sklearn.ensemble import RandomForestClassifier\n",
    "from sklearn.metrics import f1_score\n",
    "from sklearn.model_selection import RandomizedSearchCV\n",
    "from scipy.stats import randint as sp_randint\n",
    "from scipy.stats import uniform\n",
    "\n",
    "param_grid = {\n",
    "        'max_depth': [3, 5, 10],\n",
    "        'learning_rate': [0.001, 0.01, 0.1, 1],\n",
    "        'subsample': [0.6, 0.8, 1],\n",
    "        'colsample_bytree': [0.6, 0.8, 1],\n",
    "        'colsample_bylevel': [0.6, 0.8, 1],\n",
    "        'gamma': [0, 0.25, 0.5, 1.0],\n",
    "        'reg_lambda': [0.1, 1.0, 10, 100],\n",
    "        'n_estimators': [10, 50, 100, 200]}\n",
    "\n",
    "clf = xgb.XGBClassifier(n_jobs=-1)\n",
    "\n",
    "rf_random = RandomizedSearchCV(clf, param_distributions=param_grid,\n",
    "                                   n_iter=5,cv=5,scoring='f1',random_state=25, return_train_score=True)\n",
    "\n",
    "rf_random.fit(X_tr,y_train)\n",
    "print(rf_random.best_estimator_)"
   ]
  },
  {
   "cell_type": "code",
   "execution_count": 72,
   "metadata": {},
   "outputs": [
    {
     "name": "stdout",
     "output_type": "stream",
     "text": [
      "0.9435483870967742\n"
     ]
    }
   ],
   "source": [
    "clf_xgb = xgb.XGBClassifier(base_score=0.5, booster='gbtree', colsample_bylevel=0.6,\n",
    "              colsample_bynode=1, colsample_bytree=1, gamma=1.0, gpu_id=-1,\n",
    "              importance_type='gain', interaction_constraints='',\n",
    "              learning_rate=0.01, max_delta_step=0, max_depth=10,\n",
    "              min_child_weight=1, monotone_constraints='()',\n",
    "              n_estimators=200, n_jobs=-1, num_parallel_tree=1, random_state=0,\n",
    "              reg_alpha=0, reg_lambda=10, scale_pos_weight=1, subsample=0.6,\n",
    "              tree_method='exact', validate_parameters=1, verbosity=None)\n",
    "\n",
    "# Converting Sparse matrix to Dataframe for compatibility with XG Boost\n",
    "X_tr_df = pd.DataFrame.sparse.from_spmatrix(X_tr)\n",
    "X_cr_df = pd.DataFrame.sparse.from_spmatrix(X_cr)\n",
    "\n",
    "clf_xgb.fit(X_tr_df,y_train)\n",
    "y_pred_cv = clf_xgb.predict(X_cr_df)\n",
    "\n",
    "print(precision_score(y_cv,y_pred_cv))"
   ]
  },
  {
   "cell_type": "markdown",
   "metadata": {},
   "source": [
    "### Using XG Boosting we tend to get a better result by the column sampling provided by the algorithm which prevents the algorithm from overfitting. Here Hyperparameter tuning of the XG Boost is done in order to provide best possible results."
   ]
  },
  {
   "cell_type": "code",
   "execution_count": 73,
   "metadata": {},
   "outputs": [
    {
     "data": {
      "image/png": "[encoded data removed]",
      "text/plain": [
       "<Figure size 720x864 with 1 Axes>"
      ]
     },
     "metadata": {
      "needs_background": "light"
     },
     "output_type": "display_data"
    }
   ],
   "source": [
    "feature_columns = ['customer_visit_score', 'customer_product_search_score',\n",
    "       'customer_ctr_score', 'customer_stay_score', 'customer_frequency_score',\n",
    "       'customer_product_variation_score', 'customer_order_score',\n",
    "       'customer_affinity_score', 'cas_0', 'cas_1', 'cas_2', 'cas_3', 'cas_4', 'X1_0', 'X1_1', 'X1_2', 'X1_3', 'X1_4',]\n",
    "features = feature_columns\n",
    "importances = clf_xgb.feature_importances_\n",
    "indices = (np.argsort(importances))[-25:]\n",
    "plt.figure(figsize=(10,12))\n",
    "plt.title('Feature Importances')\n",
    "plt.barh(range(len(indices)), importances[indices], color='r', align='center')\n",
    "plt.yticks(range(len(indices)), [features[i] for i in indices])\n",
    "plt.xlabel('Relative Importance')\n",
    "plt.show()"
   ]
  },
  {
   "cell_type": "markdown",
   "metadata": {},
   "source": [
    "### We see the relative feature importance of each of the features.\n",
    "\n",
    "### Customer Stay score seems to have highest importance followed by Customer Ctr score and Customer visit score.\n",
    "\n",
    "### Customer frequency score also adds a good amount of feature importance. Thus overall the time spent and the number of times the customer visits the website seems to be very important in deciding the category."
   ]
  },
  {
   "cell_type": "code",
   "execution_count": 87,
   "metadata": {},
   "outputs": [
    {
     "name": "stdout",
     "output_type": "stream",
     "text": [
      "0.8768115942028986\n"
     ]
    }
   ],
   "source": [
    "from sklearn.svm import SVC\n",
    "\n",
    "X_tr_df = pd.DataFrame.sparse.from_spmatrix(X_tr)\n",
    "X_cr_df = pd.DataFrame.sparse.from_spmatrix(X_cr)\n",
    "\n",
    "X_tr_np = X_tr_df.to_numpy()\n",
    "X_cr_np = X_cr_df.to_numpy()\n",
    "\n",
    "\n",
    "svc = SVC(C=35, class_weight=\"balanced\", kernel='rbf')\n",
    "\n",
    "svc.fit(X_tr_np, y_train)\n",
    "\n",
    "y_pred_cv = svc.predict(X_cr_np)\n",
    "\n",
    "print(precision_score(y_cv,y_pred_cv))"
   ]
  },
  {
   "cell_type": "markdown",
   "metadata": {},
   "source": [
    "### SVM with the rbf kernel provided a precision score of 87% after various hyperparameter trials."
   ]
  },
  {
   "cell_type": "markdown",
   "metadata": {},
   "source": [
    "### Since we have tried the ones that can handle imbalanced data well, we can give a try to other ML algorithms which are average in handling imabalanced data."
   ]
  },
  {
   "cell_type": "code",
   "execution_count": 89,
   "metadata": {},
   "outputs": [
    {
     "name": "stderr",
     "output_type": "stream",
     "text": [
      "[Parallel(n_jobs=-1)]: Using backend LokyBackend with 12 concurrent workers.\n"
     ]
    },
    {
     "name": "stdout",
     "output_type": "stream",
     "text": [
      "Fitting 5 folds for each of 20 candidates, totalling 100 fits\n"
     ]
    },
    {
     "name": "stderr",
     "output_type": "stream",
     "text": [
      "[Parallel(n_jobs=-1)]: Done  26 tasks      | elapsed:    6.7s\n"
     ]
    },
    {
     "name": "stdout",
     "output_type": "stream",
     "text": [
      "KNeighborsClassifier(metric='manhattan', n_neighbors=10, weights='distance')\n"
     ]
    },
    {
     "name": "stderr",
     "output_type": "stream",
     "text": [
      "[Parallel(n_jobs=-1)]: Done 100 out of 100 | elapsed:   14.0s finished\n"
     ]
    }
   ],
   "source": [
    "from sklearn.model_selection import GridSearchCV\n",
    "from sklearn.neighbors import KNeighborsClassifier\n",
    "\n",
    "params = {\n",
    "    'n_neighbors': [3, 5, 7, 10, 20],\n",
    "    'weights': ['uniform','distance'],\n",
    "    'metric': ['euclidean', 'manhattan']\n",
    "}\n",
    "\n",
    "\n",
    "knn = KNeighborsClassifier()\n",
    "\n",
    "grid_search = GridSearchCV(knn, params, verbose=1, cv=5, n_jobs=-1)\n",
    "\n",
    "grid_search.fit(X_tr_df, y_train)\n",
    "\n",
    "print(grid_search.best_estimator_)"
   ]
  },
  {
   "cell_type": "code",
   "execution_count": 95,
   "metadata": {},
   "outputs": [
    {
     "name": "stdout",
     "output_type": "stream",
     "text": [
      "0.9569377990430622\n"
     ]
    }
   ],
   "source": [
    "clf_knn = KNeighborsClassifier(metric='manhattan', n_neighbors=10, weights='distance')\n",
    "\n",
    "clf_knn.fit(X_tr_df,y_train)\n",
    "\n",
    "y_pred_cv = clf_knn.predict(X_cr_df)\n",
    "\n",
    "print(precision_score(y_cv,y_pred_cv))"
   ]
  },
  {
   "cell_type": "markdown",
   "metadata": {},
   "source": [
    "### KNN is able to provide a good precision score even compared to that of the XG Boost DTs but need to verify once trained with larger dataset and with the test dataset."
   ]
  },
  {
   "cell_type": "code",
   "execution_count": 97,
   "metadata": {},
   "outputs": [
    {
     "name": "stdout",
     "output_type": "stream",
     "text": [
      "LogisticRegression(C=129419584144.99811, random_state=0)\n"
     ]
    }
   ],
   "source": [
    "LR = LogisticRegression(random_state=0)\n",
    "\n",
    "penalty = ['l1', 'l2']\n",
    "C = np.logspace(0.001, 100, 10)\n",
    "hyperparameters = dict(C=C, penalty=penalty)\n",
    "\n",
    "clf = GridSearchCV(LR, hyperparameters, scoring='f1')\n",
    "best_model = clf.fit(X_tr_df, y_train)\n",
    "print(best_model.best_estimator_)"
   ]
  },
  {
   "cell_type": "code",
   "execution_count": 100,
   "metadata": {},
   "outputs": [
    {
     "name": "stdout",
     "output_type": "stream",
     "text": [
      "0.9471544715447154\n"
     ]
    }
   ],
   "source": [
    "log_reg=LogisticRegression(C=129419584144.99811, random_state=0)\n",
    "log_reg.fit(X_tr_df, y_train)\n",
    "\n",
    "y_cv_pred = log_reg.predict(X_cr_df)\n",
    "print(precision_score(y_cv,y_cv_pred))"
   ]
  },
  {
   "cell_type": "code",
   "execution_count": null,
   "metadata": {},
   "outputs": [],
   "source": [
    "## Logistic regression is also able to provide similar accuracy compared to the XG Boost.\n",
    "\n",
    "### Since we have three well performing ML algorithms for this dataset we can use stacking in order to check if we get good results.\n"
   ]
  },
  {
   "cell_type": "code",
   "execution_count": 101,
   "metadata": {},
   "outputs": [
    {
     "name": "stdout",
     "output_type": "stream",
     "text": [
      "0.9569377990430622\n"
     ]
    }
   ],
   "source": [
    "clf1 = KNeighborsClassifier(metric='manhattan', n_neighbors=10, weights='distance')\n",
    "clf2 = xgb.XGBClassifier(base_score=0.5, booster='gbtree', colsample_bylevel=0.6,\n",
    "              colsample_bynode=1, colsample_bytree=1, gamma=1.0, gpu_id=-1,\n",
    "              importance_type='gain', interaction_constraints='',\n",
    "              learning_rate=0.01, max_delta_step=0, max_depth=10,\n",
    "              min_child_weight=1, monotone_constraints='()',\n",
    "              n_estimators=200, n_jobs=-1, num_parallel_tree=1, random_state=0,\n",
    "              reg_alpha=0, reg_lambda=10, scale_pos_weight=1, subsample=0.6,\n",
    "              tree_method='exact', validate_parameters=1, verbosity=None)\n",
    "clf3 =  DecisionTreeClassifier(max_depth=1, min_samples_split=5, random_state=0)\n",
    "lr = LogisticRegression()\n",
    "\n",
    "sclf = StackingClassifier(classifiers=[clf1, clf2, clf3],\n",
    "                          use_probas=False,\n",
    "                          average_probas=False,\n",
    "                          meta_classifier=lr)\n",
    "\n",
    "\n",
    "sclf.fit(X_tr_df,y_train)\n",
    "y_cv_pred = sclf.predict(X_cr_df)\n",
    "\n",
    "print(precision_score(y_cv,y_cv_pred))\n"
   ]
  },
  {
   "cell_type": "markdown",
   "metadata": {},
   "source": [
    "### The stacking classifier is providing the same result as that of the KNN. "
   ]
  },
  {
   "cell_type": "markdown",
   "metadata": {},
   "source": [
    "## Hence for the complete train dataset we can use \"XGboost\" and \"KNN\" and choose the best among them for final result.\n",
    "\n",
    "## ----------------------------------------------------------------------------------------------------------------------------------"
   ]
  },
  {
   "cell_type": "code",
   "execution_count": 102,
   "metadata": {},
   "outputs": [
    {
     "data": {
      "text/html": [
       "<div>\n",
       "<style scoped>\n",
       "    .dataframe tbody tr th:only-of-type {\n",
       "        vertical-align: middle;\n",
       "    }\n",
       "\n",
       "    .dataframe tbody tr th {\n",
       "        vertical-align: top;\n",
       "    }\n",
       "\n",
       "    .dataframe thead th {\n",
       "        text-align: right;\n",
       "    }\n",
       "</style>\n",
       "<table border=\"1\" class=\"dataframe\">\n",
       "  <thead>\n",
       "    <tr style=\"text-align: right;\">\n",
       "      <th></th>\n",
       "      <th>customer_id</th>\n",
       "      <th>customer_visit_score</th>\n",
       "      <th>customer_product_search_score</th>\n",
       "      <th>customer_ctr_score</th>\n",
       "      <th>customer_stay_score</th>\n",
       "      <th>customer_frequency_score</th>\n",
       "      <th>customer_product_variation_score</th>\n",
       "      <th>customer_order_score</th>\n",
       "      <th>customer_affinity_score</th>\n",
       "      <th>customer_active_segment</th>\n",
       "      <th>X1</th>\n",
       "      <th>customer_category</th>\n",
       "    </tr>\n",
       "  </thead>\n",
       "  <tbody>\n",
       "    <tr>\n",
       "      <th>0</th>\n",
       "      <td>csid_1</td>\n",
       "      <td>13.168425</td>\n",
       "      <td>9.447662</td>\n",
       "      <td>-0.070203</td>\n",
       "      <td>-0.139541</td>\n",
       "      <td>0.436956</td>\n",
       "      <td>4.705761</td>\n",
       "      <td>2.537985</td>\n",
       "      <td>7.959503</td>\n",
       "      <td>C</td>\n",
       "      <td>F</td>\n",
       "      <td>0</td>\n",
       "    </tr>\n",
       "    <tr>\n",
       "      <th>1</th>\n",
       "      <td>csid_2</td>\n",
       "      <td>17.092979</td>\n",
       "      <td>7.329056</td>\n",
       "      <td>0.153298</td>\n",
       "      <td>-0.102726</td>\n",
       "      <td>0.380340</td>\n",
       "      <td>4.205138</td>\n",
       "      <td>4.193444</td>\n",
       "      <td>17.517381</td>\n",
       "      <td>C</td>\n",
       "      <td>A</td>\n",
       "      <td>0</td>\n",
       "    </tr>\n",
       "    <tr>\n",
       "      <th>2</th>\n",
       "      <td>csid_3</td>\n",
       "      <td>17.505334</td>\n",
       "      <td>5.143676</td>\n",
       "      <td>0.106709</td>\n",
       "      <td>0.262834</td>\n",
       "      <td>0.417648</td>\n",
       "      <td>4.479070</td>\n",
       "      <td>3.878971</td>\n",
       "      <td>12.595155</td>\n",
       "      <td>C</td>\n",
       "      <td>BA</td>\n",
       "      <td>0</td>\n",
       "    </tr>\n",
       "    <tr>\n",
       "      <th>3</th>\n",
       "      <td>csid_4</td>\n",
       "      <td>31.423381</td>\n",
       "      <td>4.917740</td>\n",
       "      <td>-0.020226</td>\n",
       "      <td>-0.100526</td>\n",
       "      <td>0.778130</td>\n",
       "      <td>5.055535</td>\n",
       "      <td>2.708940</td>\n",
       "      <td>4.795073</td>\n",
       "      <td>AA</td>\n",
       "      <td>F</td>\n",
       "      <td>0</td>\n",
       "    </tr>\n",
       "    <tr>\n",
       "      <th>4</th>\n",
       "      <td>csid_5</td>\n",
       "      <td>11.909502</td>\n",
       "      <td>4.237073</td>\n",
       "      <td>0.187178</td>\n",
       "      <td>0.172891</td>\n",
       "      <td>0.162067</td>\n",
       "      <td>3.445247</td>\n",
       "      <td>3.677360</td>\n",
       "      <td>56.636326</td>\n",
       "      <td>C</td>\n",
       "      <td>AA</td>\n",
       "      <td>0</td>\n",
       "    </tr>\n",
       "  </tbody>\n",
       "</table>\n",
       "</div>"
      ],
      "text/plain": [
       "  customer_id  customer_visit_score  customer_product_search_score  \\\n",
       "0      csid_1             13.168425                       9.447662   \n",
       "1      csid_2             17.092979                       7.329056   \n",
       "2      csid_3             17.505334                       5.143676   \n",
       "3      csid_4             31.423381                       4.917740   \n",
       "4      csid_5             11.909502                       4.237073   \n",
       "\n",
       "   customer_ctr_score  customer_stay_score  customer_frequency_score  \\\n",
       "0           -0.070203            -0.139541                  0.436956   \n",
       "1            0.153298            -0.102726                  0.380340   \n",
       "2            0.106709             0.262834                  0.417648   \n",
       "3           -0.020226            -0.100526                  0.778130   \n",
       "4            0.187178             0.172891                  0.162067   \n",
       "\n",
       "   customer_product_variation_score  customer_order_score  \\\n",
       "0                          4.705761              2.537985   \n",
       "1                          4.205138              4.193444   \n",
       "2                          4.479070              3.878971   \n",
       "3                          5.055535              2.708940   \n",
       "4                          3.445247              3.677360   \n",
       "\n",
       "   customer_affinity_score customer_active_segment  X1  customer_category  \n",
       "0                 7.959503                       C   F                  0  \n",
       "1                17.517381                       C   A                  0  \n",
       "2                12.595155                       C  BA                  0  \n",
       "3                 4.795073                      AA   F                  0  \n",
       "4                56.636326                       C  AA                  0  "
      ]
     },
     "execution_count": 102,
     "metadata": {},
     "output_type": "execute_result"
    }
   ],
   "source": [
    "train_data=pd.read_csv('train.csv')\n",
    "train_data.head()"
   ]
  },
  {
   "cell_type": "code",
   "execution_count": 103,
   "metadata": {},
   "outputs": [
    {
     "data": {
      "text/html": [
       "<div>\n",
       "<style scoped>\n",
       "    .dataframe tbody tr th:only-of-type {\n",
       "        vertical-align: middle;\n",
       "    }\n",
       "\n",
       "    .dataframe tbody tr th {\n",
       "        vertical-align: top;\n",
       "    }\n",
       "\n",
       "    .dataframe thead th {\n",
       "        text-align: right;\n",
       "    }\n",
       "</style>\n",
       "<table border=\"1\" class=\"dataframe\">\n",
       "  <thead>\n",
       "    <tr style=\"text-align: right;\">\n",
       "      <th></th>\n",
       "      <th>customer_id</th>\n",
       "      <th>customer_visit_score</th>\n",
       "      <th>customer_product_search_score</th>\n",
       "      <th>customer_ctr_score</th>\n",
       "      <th>customer_stay_score</th>\n",
       "      <th>customer_frequency_score</th>\n",
       "      <th>customer_product_variation_score</th>\n",
       "      <th>customer_order_score</th>\n",
       "      <th>customer_affinity_score</th>\n",
       "      <th>customer_active_segment</th>\n",
       "      <th>X1</th>\n",
       "    </tr>\n",
       "  </thead>\n",
       "  <tbody>\n",
       "    <tr>\n",
       "      <th>0</th>\n",
       "      <td>csid_10739</td>\n",
       "      <td>22.500174</td>\n",
       "      <td>3.702145</td>\n",
       "      <td>0.118811</td>\n",
       "      <td>0.093253</td>\n",
       "      <td>0.689237</td>\n",
       "      <td>5.786842</td>\n",
       "      <td>3.748009</td>\n",
       "      <td>7.661716</td>\n",
       "      <td>B</td>\n",
       "      <td>BA</td>\n",
       "    </tr>\n",
       "    <tr>\n",
       "      <th>1</th>\n",
       "      <td>csid_10740</td>\n",
       "      <td>13.225950</td>\n",
       "      <td>3.600102</td>\n",
       "      <td>0.130985</td>\n",
       "      <td>0.053575</td>\n",
       "      <td>0.142756</td>\n",
       "      <td>3.940359</td>\n",
       "      <td>3.469659</td>\n",
       "      <td>33.999679</td>\n",
       "      <td>B</td>\n",
       "      <td>AA</td>\n",
       "    </tr>\n",
       "    <tr>\n",
       "      <th>2</th>\n",
       "      <td>csid_10741</td>\n",
       "      <td>14.603376</td>\n",
       "      <td>5.084047</td>\n",
       "      <td>-0.004651</td>\n",
       "      <td>-0.036299</td>\n",
       "      <td>0.333709</td>\n",
       "      <td>4.254662</td>\n",
       "      <td>3.855939</td>\n",
       "      <td>33.485630</td>\n",
       "      <td>B</td>\n",
       "      <td>AA</td>\n",
       "    </tr>\n",
       "    <tr>\n",
       "      <th>3</th>\n",
       "      <td>csid_10742</td>\n",
       "      <td>26.149905</td>\n",
       "      <td>3.025501</td>\n",
       "      <td>0.229740</td>\n",
       "      <td>0.204591</td>\n",
       "      <td>3.768405</td>\n",
       "      <td>6.942625</td>\n",
       "      <td>2.362421</td>\n",
       "      <td>0.795372</td>\n",
       "      <td>B</td>\n",
       "      <td>BA</td>\n",
       "    </tr>\n",
       "    <tr>\n",
       "      <th>4</th>\n",
       "      <td>csid_10743</td>\n",
       "      <td>19.810630</td>\n",
       "      <td>5.020400</td>\n",
       "      <td>-0.011347</td>\n",
       "      <td>-0.028780</td>\n",
       "      <td>0.286841</td>\n",
       "      <td>4.585513</td>\n",
       "      <td>3.278624</td>\n",
       "      <td>15.052058</td>\n",
       "      <td>C</td>\n",
       "      <td>BA</td>\n",
       "    </tr>\n",
       "  </tbody>\n",
       "</table>\n",
       "</div>"
      ],
      "text/plain": [
       "  customer_id  customer_visit_score  customer_product_search_score  \\\n",
       "0  csid_10739             22.500174                       3.702145   \n",
       "1  csid_10740             13.225950                       3.600102   \n",
       "2  csid_10741             14.603376                       5.084047   \n",
       "3  csid_10742             26.149905                       3.025501   \n",
       "4  csid_10743             19.810630                       5.020400   \n",
       "\n",
       "   customer_ctr_score  customer_stay_score  customer_frequency_score  \\\n",
       "0            0.118811             0.093253                  0.689237   \n",
       "1            0.130985             0.053575                  0.142756   \n",
       "2           -0.004651            -0.036299                  0.333709   \n",
       "3            0.229740             0.204591                  3.768405   \n",
       "4           -0.011347            -0.028780                  0.286841   \n",
       "\n",
       "   customer_product_variation_score  customer_order_score  \\\n",
       "0                          5.786842              3.748009   \n",
       "1                          3.940359              3.469659   \n",
       "2                          4.254662              3.855939   \n",
       "3                          6.942625              2.362421   \n",
       "4                          4.585513              3.278624   \n",
       "\n",
       "   customer_affinity_score customer_active_segment  X1  \n",
       "0                 7.661716                       B  BA  \n",
       "1                33.999679                       B  AA  \n",
       "2                33.485630                       B  AA  \n",
       "3                 0.795372                       B  BA  \n",
       "4                15.052058                       C  BA  "
      ]
     },
     "execution_count": 103,
     "metadata": {},
     "output_type": "execute_result"
    }
   ],
   "source": [
    "test_data=pd.read_csv('test.csv')\n",
    "test_data.head()"
   ]
  },
  {
   "cell_type": "code",
   "execution_count": 104,
   "metadata": {},
   "outputs": [],
   "source": [
    "# Replacing Null value of each column with the respective Mean value.\n",
    "for each_column in train_data.columns[1:9]:\n",
    "    mean_value = train_data[each_column].mean()\n",
    "    train_data[each_column].fillna(mean_value, inplace=True)\n",
    "    test_data[each_column].fillna(mean_value, inplace=True)"
   ]
  },
  {
   "cell_type": "code",
   "execution_count": 105,
   "metadata": {},
   "outputs": [],
   "source": [
    "train_data[\"customer_active_segment\"].fillna(\"C\", inplace=True)\n",
    "test_data[\"customer_active_segment\"].fillna(\"C\", inplace=True)\n",
    "\n",
    "train_data[\"X1\"].fillna(\"BA\", inplace=True)\n",
    "test_data[\"X1\"].fillna(\"BA\", inplace=True)"
   ]
  },
  {
   "cell_type": "code",
   "execution_count": 106,
   "metadata": {},
   "outputs": [
    {
     "name": "stdout",
     "output_type": "stream",
     "text": [
      "Any Null values in Train and Test data ==>  False False\n",
      "**************************************************\n",
      "customer_id                         0\n",
      "customer_visit_score                0\n",
      "customer_product_search_score       0\n",
      "customer_ctr_score                  0\n",
      "customer_stay_score                 0\n",
      "customer_frequency_score            0\n",
      "customer_product_variation_score    0\n",
      "customer_order_score                0\n",
      "customer_affinity_score             0\n",
      "customer_active_segment             0\n",
      "X1                                  0\n",
      "customer_category                   0\n",
      "dtype: int64\n",
      "**************************************************\n",
      "customer_id                         0\n",
      "customer_visit_score                0\n",
      "customer_product_search_score       0\n",
      "customer_ctr_score                  0\n",
      "customer_stay_score                 0\n",
      "customer_frequency_score            0\n",
      "customer_product_variation_score    0\n",
      "customer_order_score                0\n",
      "customer_affinity_score             0\n",
      "customer_active_segment             0\n",
      "X1                                  0\n",
      "dtype: int64\n"
     ]
    }
   ],
   "source": [
    "print(\"Any Null values in Train and Test data ==> \", train_data.isnull().any().any(),test_data.isnull().any().any())\n",
    "print(\"*\"*50)\n",
    "print(train_data.isna().sum())\n",
    "print(\"*\"*50)\n",
    "print(test_data.isna().sum())"
   ]
  },
  {
   "cell_type": "code",
   "execution_count": 107,
   "metadata": {},
   "outputs": [
    {
     "name": "stdout",
     "output_type": "stream",
     "text": [
      "Index(['customer_visit_score', 'customer_product_search_score',\n",
      "       'customer_ctr_score', 'customer_stay_score', 'customer_frequency_score',\n",
      "       'customer_product_variation_score', 'customer_order_score',\n",
      "       'customer_affinity_score', 'customer_active_segment', 'X1',\n",
      "       'customer_category'],\n",
      "      dtype='object')\n",
      "Index(['customer_visit_score', 'customer_product_search_score',\n",
      "       'customer_ctr_score', 'customer_stay_score', 'customer_frequency_score',\n",
      "       'customer_product_variation_score', 'customer_order_score',\n",
      "       'customer_affinity_score', 'customer_active_segment', 'X1'],\n",
      "      dtype='object')\n"
     ]
    }
   ],
   "source": [
    "### Drop Customer id since it is unique and not needed for training\n",
    "\n",
    "X_train = train_data.drop(\"customer_id\", axis=1)\n",
    "X_test = test_data.drop(\"customer_id\", axis=1)\n",
    "\n",
    "print(X_train.columns)\n",
    "print(X_test.columns)"
   ]
  },
  {
   "cell_type": "code",
   "execution_count": 108,
   "metadata": {},
   "outputs": [
    {
     "name": "stdout",
     "output_type": "stream",
     "text": [
      "Index(['customer_visit_score', 'customer_product_search_score',\n",
      "       'customer_ctr_score', 'customer_stay_score', 'customer_frequency_score',\n",
      "       'customer_product_variation_score', 'customer_order_score',\n",
      "       'customer_affinity_score', 'customer_active_segment', 'X1'],\n",
      "      dtype='object')\n"
     ]
    }
   ],
   "source": [
    "y_train = X_train[\"customer_category\"]\n",
    "\n",
    "X_train = X_train.drop(\"customer_category\", axis=1)\n",
    "\n",
    "print(X_train.columns)"
   ]
  },
  {
   "cell_type": "code",
   "execution_count": 109,
   "metadata": {},
   "outputs": [
    {
     "name": "stdout",
     "output_type": "stream",
     "text": [
      "['C' 'AA' 'B' 'A' 'D']\n",
      "After vectorizations\n",
      "(10738, 5) (10738,)\n",
      "['a', 'aa', 'b', 'c', 'd']\n",
      "====================================================================================================\n"
     ]
    }
   ],
   "source": [
    "vectorizer = CountVectorizer(token_pattern = r\"(?u)\\b\\w+\\b\")\n",
    "print(X_train['customer_active_segment'].unique())\n",
    "vectorizer.fit(X_train['customer_active_segment'].values)\n",
    "\n",
    "# we use the fitted CountVectorizer to convert the text to vector\n",
    "X_train_cas = vectorizer.transform(X_train['customer_active_segment'].values)\n",
    "X_test_cas = vectorizer.transform(X_test['customer_active_segment'].values)\n",
    "print(\"After vectorizations\")\n",
    "print(X_train_cas.shape, y_train.shape)\n",
    "# print(X_test_grade_ohe.shape, y_test.shape)\n",
    "print(vectorizer.get_feature_names())\n",
    "print(\"=\"*100)"
   ]
  },
  {
   "cell_type": "code",
   "execution_count": 110,
   "metadata": {},
   "outputs": [
    {
     "name": "stdout",
     "output_type": "stream",
     "text": [
      "['F' 'A' 'BA' 'AA' 'E']\n",
      "After vectorizations\n",
      "(10738, 5) (10738,)\n",
      "['a', 'aa', 'ba', 'e', 'f']\n",
      "====================================================================================================\n"
     ]
    }
   ],
   "source": [
    "vectorizer = CountVectorizer(token_pattern = r\"(?u)\\b\\w+\\b\")\n",
    "print(X_train['X1'].unique())\n",
    "vectorizer.fit(X_train['X1'].values)\n",
    "\n",
    "# we use the fitted CountVectorizer to convert the text to vector\n",
    "X_train_x1 = vectorizer.transform(X_train['X1'].values)\n",
    "X_test_x1 = vectorizer.transform(X_test['X1'].values)\n",
    "print(\"After vectorizations\")\n",
    "print(X_train_x1.shape, y_train.shape)\n",
    "# print(X_test_grade_ohe.shape, y_test.shape)\n",
    "print(vectorizer.get_feature_names())\n",
    "print(\"=\"*100)\n"
   ]
  },
  {
   "cell_type": "code",
   "execution_count": 111,
   "metadata": {},
   "outputs": [],
   "source": [
    "X_train = X_train.drop(\"customer_active_segment\", axis=1)\n",
    "X_train = X_train.drop(\"X1\", axis=1)\n",
    "\n",
    "X_test = X_test.drop(\"customer_active_segment\", axis=1)\n",
    "X_test = X_test.drop(\"X1\", axis=1)"
   ]
  },
  {
   "cell_type": "code",
   "execution_count": 112,
   "metadata": {},
   "outputs": [],
   "source": [
    "from scipy.sparse import hstack\n",
    "X_tr = hstack((X_train, X_train_cas, X_train_x1))\n",
    "X_te = hstack((X_test, X_test_cas, X_test_x1))"
   ]
  },
  {
   "cell_type": "markdown",
   "metadata": {},
   "source": [
    "# XG Boost DT"
   ]
  },
  {
   "cell_type": "code",
   "execution_count": 113,
   "metadata": {},
   "outputs": [
    {
     "name": "stdout",
     "output_type": "stream",
     "text": [
      "XGBClassifier(base_score=0.5, booster='gbtree', colsample_bylevel=0.6,\n",
      "              colsample_bynode=1, colsample_bytree=1, gamma=1.0, gpu_id=-1,\n",
      "              importance_type='gain', interaction_constraints='',\n",
      "              learning_rate=0.01, max_delta_step=0, max_depth=10,\n",
      "              min_child_weight=1, missing=nan, monotone_constraints='()',\n",
      "              n_estimators=200, n_jobs=-1, num_parallel_tree=1, random_state=0,\n",
      "              reg_alpha=0, reg_lambda=10, scale_pos_weight=1, subsample=0.6,\n",
      "              tree_method='exact', validate_parameters=1, verbosity=None)\n"
     ]
    }
   ],
   "source": [
    "import xgboost as xgb\n",
    "from sklearn.metrics import f1_score\n",
    "from sklearn.ensemble import RandomForestClassifier\n",
    "from sklearn.metrics import f1_score\n",
    "from sklearn.model_selection import RandomizedSearchCV\n",
    "from scipy.stats import randint as sp_randint\n",
    "from scipy.stats import uniform\n",
    "\n",
    "param_grid = {\n",
    "        'max_depth': [3, 5, 10],\n",
    "        'learning_rate': [0.001, 0.01, 0.1, 1],\n",
    "        'subsample': [0.6, 0.8, 1],\n",
    "        'colsample_bytree': [0.6, 0.8, 1],\n",
    "        'colsample_bylevel': [0.6, 0.8, 1],\n",
    "        'gamma': [0, 0.25, 0.5, 1.0],\n",
    "        'reg_lambda': [0.1, 1.0, 10, 100],\n",
    "        'n_estimators': [10, 50, 100, 200]}\n",
    "\n",
    "clf = xgb.XGBClassifier(n_jobs=-1)\n",
    "\n",
    "rf_random = RandomizedSearchCV(clf, param_distributions=param_grid,\n",
    "                                   n_iter=5,cv=5,scoring='f1',random_state=25, return_train_score=True)\n",
    "\n",
    "rf_random.fit(X_tr,y_train)\n",
    "print(rf_random.best_estimator_)"
   ]
  },
  {
   "cell_type": "code",
   "execution_count": 120,
   "metadata": {},
   "outputs": [
    {
     "name": "stdout",
     "output_type": "stream",
     "text": [
      "[0 0 0 ... 0 0 1]\n"
     ]
    }
   ],
   "source": [
    "clf_xgb = xgb.XGBClassifier(base_score=0.5, booster='gbtree', colsample_bylevel=0.6,\n",
    "              colsample_bynode=1, colsample_bytree=1, gamma=1.0, gpu_id=-1,\n",
    "              importance_type='gain', interaction_constraints='',\n",
    "              learning_rate=0.01, max_delta_step=0, max_depth=10,\n",
    "              min_child_weight=1, monotone_constraints='()',\n",
    "              n_estimators=200, n_jobs=-1, num_parallel_tree=1, random_state=0,\n",
    "              reg_alpha=0, reg_lambda=10, scale_pos_weight=1, subsample=0.6,\n",
    "              tree_method='exact', validate_parameters=1, verbosity=None)\n",
    "            \n",
    "X_tr_df = pd.DataFrame.sparse.from_spmatrix(X_tr)\n",
    "clf_xgb.fit(X_tr_df,y_train)\n",
    "\n",
    "X_te_df = pd.DataFrame.sparse.from_spmatrix(X_te)\n",
    "y_pred = clf_xgb.predict(X_te_df)\n",
    "\n",
    "print(y_pred)"
   ]
  },
  {
   "cell_type": "code",
   "execution_count": 115,
   "metadata": {},
   "outputs": [
    {
     "name": "stdout",
     "output_type": "stream",
     "text": [
      "(7160, 11) (7160,)\n",
      "  customer_id  customer_category\n",
      "0  csid_10739                  0\n",
      "1  csid_10740                  0\n",
      "2  csid_10741                  0\n",
      "3  csid_10742                  0\n",
      "4  csid_10743                  0\n"
     ]
    }
   ],
   "source": [
    "print(test_data.shape, y_pred.shape)\n",
    "\n",
    "result_dict = {\n",
    "    \"customer_id\": test_data[\"customer_id\"],\n",
    "    \"customer_category\":y_pred\n",
    "}\n",
    "\n",
    "result = pd.DataFrame(result_dict)\n",
    "\n",
    "print(result.head())\n",
    "\n",
    "result.to_csv(r\"Result_xgb.csv\",index = False, header=True)"
   ]
  },
  {
   "cell_type": "code",
   "execution_count": 121,
   "metadata": {},
   "outputs": [
    {
     "data": {
      "image/png": "[encoded data removed]",
      "text/plain": [
       "<Figure size 720x864 with 1 Axes>"
      ]
     },
     "metadata": {
      "needs_background": "light"
     },
     "output_type": "display_data"
    }
   ],
   "source": [
    "feature_columns = ['customer_visit_score', 'customer_product_search_score',\n",
    "       'customer_ctr_score', 'customer_stay_score', 'customer_frequency_score',\n",
    "       'customer_product_variation_score', 'customer_order_score',\n",
    "       'customer_affinity_score', 'cas_0', 'cas_1', 'cas_2', 'cas_3', 'cas_4', 'X1_0', 'X1_1', 'X1_2', 'X1_3', 'X1_4',]\n",
    "features = feature_columns\n",
    "importances = clf_xgb.feature_importances_\n",
    "indices = (np.argsort(importances))[-25:]\n",
    "plt.figure(figsize=(10,12))\n",
    "plt.title('Feature Importances')\n",
    "plt.barh(range(len(indices)), importances[indices], color='r', align='center')\n",
    "plt.yticks(range(len(indices)), [features[i] for i in indices])\n",
    "plt.xlabel('Relative Importance')\n",
    "plt.show()"
   ]
  },
  {
   "cell_type": "markdown",
   "metadata": {},
   "source": [
    "## XG Boost was able to provide a precision score of 92.16268"
   ]
  },
  {
   "cell_type": "markdown",
   "metadata": {},
   "source": [
    "# KNN"
   ]
  },
  {
   "cell_type": "code",
   "execution_count": 116,
   "metadata": {},
   "outputs": [
    {
     "name": "stdout",
     "output_type": "stream",
     "text": [
      "Fitting 5 folds for each of 20 candidates, totalling 100 fits\n"
     ]
    },
    {
     "name": "stderr",
     "output_type": "stream",
     "text": [
      "[Parallel(n_jobs=-1)]: Using backend LokyBackend with 12 concurrent workers.\n",
      "[Parallel(n_jobs=-1)]: Done  26 tasks      | elapsed:    9.1s\n"
     ]
    },
    {
     "name": "stdout",
     "output_type": "stream",
     "text": [
      "KNeighborsClassifier(metric='manhattan', n_neighbors=10, weights='distance')\n"
     ]
    },
    {
     "name": "stderr",
     "output_type": "stream",
     "text": [
      "[Parallel(n_jobs=-1)]: Done 100 out of 100 | elapsed:   19.8s finished\n"
     ]
    }
   ],
   "source": [
    "from sklearn.model_selection import GridSearchCV\n",
    "from sklearn.neighbors import KNeighborsClassifier\n",
    "\n",
    "params = {\n",
    "    'n_neighbors': [3, 5, 7, 10, 20],\n",
    "    'weights': ['uniform','distance'],\n",
    "    'metric': ['euclidean', 'manhattan']\n",
    "}\n",
    "\n",
    "\n",
    "knn = KNeighborsClassifier()\n",
    "\n",
    "grid_search = GridSearchCV(knn, params, verbose=1, cv=5, n_jobs=-1)\n",
    "\n",
    "grid_search.fit(X_tr_df, y_train)\n",
    "\n",
    "print(grid_search.best_estimator_)"
   ]
  },
  {
   "cell_type": "code",
   "execution_count": 118,
   "metadata": {},
   "outputs": [],
   "source": [
    "clf_knn = KNeighborsClassifier(metric='manhattan', n_neighbors=10, weights='distance')\n",
    "\n",
    "clf_knn.fit(X_tr_df,y_train)\n",
    "\n",
    "y_pred = clf_knn.predict(X_te_df)"
   ]
  },
  {
   "cell_type": "code",
   "execution_count": 119,
   "metadata": {},
   "outputs": [
    {
     "name": "stdout",
     "output_type": "stream",
     "text": [
      "(7160, 11) (7160,)\n",
      "  customer_id  customer_category\n",
      "0  csid_10739                  0\n",
      "1  csid_10740                  0\n",
      "2  csid_10741                  0\n",
      "3  csid_10742                  0\n",
      "4  csid_10743                  0\n"
     ]
    }
   ],
   "source": [
    "print(test_data.shape, y_pred.shape)\n",
    "\n",
    "result_dict = {\n",
    "    \"customer_id\": test_data[\"customer_id\"],\n",
    "    \"customer_category\":y_pred\n",
    "}\n",
    "\n",
    "result = pd.DataFrame(result_dict)\n",
    "\n",
    "print(result.head())\n",
    "\n",
    "result.to_csv(r\"Result_knn.csv\",index = False, header=True)"
   ]
  },
  {
   "cell_type": "markdown",
   "metadata": {},
   "source": [
    "## KNN was able to provide a precision score of 91.81054\n",
    "\n",
    "## -------------------------------------------------------------------------------------------------------------------------------"
   ]
  },
  {
   "cell_type": "markdown",
   "metadata": {},
   "source": [
    "# Conclusion\n",
    "\n",
    "### We can see that XGBoost DT was the best classifier in terms of providing the best precision score of 92.16268\n",
    "\n",
    "### We can assume that the category \"0\" is for the customer who did not take much time in deciding a product nor did the customer invest in research of the product of interest, where as the category \"1\" customers researched a lot before buying any product of interest.\n",
    "\n",
    "### The top 3 feature importance were in decreasing order 1. Customer Ctr Score 2. Customer Stay score 3. Customer visit score\n",
    "\n",
    "### Which shows that the higher ratio of the clicks to search , the easier it is to categorise the customer\n",
    "### The more time the customer spent on the website, the customer was more likely to be categorised into \"1\" which may be that the customer bought something\n",
    "### The more the customer visits the websites, the more chance he is going to be categorised into category \"1\""
   ]
  }
 ],
 "metadata": {
  "kernelspec": {
   "display_name": "Python 3",
   "language": "python",
   "name": "python3"
  },
  "language_info": {
   "codemirror_mode": {
    "name": "ipython",
    "version": 3
   },
   "file_extension": ".py",
   "mimetype": "text/x-python",
   "name": "python",
   "nbconvert_exporter": "python",
   "pygments_lexer": "ipython3",
   "version": "3.7.9"
  }
 },
 "nbformat": 4,
 "nbformat_minor": 4
}
